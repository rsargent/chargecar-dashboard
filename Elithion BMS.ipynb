{
 "metadata": {
  "name": "",
  "signature": "sha256:0f17f1974e5e600e96e56e634ca856512d8376d503451a14d9934277d550a76e"
 },
 "nbformat": 3,
 "nbformat_minor": 0,
 "worksheets": [
  {
   "cells": [
    {
     "cell_type": "markdown",
     "metadata": {},
     "source": [
      "Useful documentation:\n",
      "- chargecar/car/code/HondaInDashDisplay/src/org/chargecar/honda/bms/BMSReader.java\n",
      "- http://lithiumate.elithion.com/php/controller_can_specs.php\n",
      "\n",
      "\n"
     ]
    },
    {
     "cell_type": "code",
     "collapsed": false,
     "input": [
      "import serial\n",
      "\n",
      "bms = serial.Serial('/dev/tty.usbserial', 19200)\n",
      "bms"
     ],
     "language": "python",
     "metadata": {},
     "outputs": [
      {
       "metadata": {},
       "output_type": "pyout",
       "prompt_number": 1,
       "text": [
        "Serial<id=0x1026e02d0, open=True>(port='/dev/tty.usbserial', baudrate=19200, bytesize=8, parity='N', stopbits=1, timeout=None, xonxoff=False, rtscts=False, dsrdtr=False)"
       ]
      }
     ],
     "prompt_number": 1
    },
    {
     "cell_type": "code",
     "collapsed": false,
     "input": [
      "import sys\n",
      "import datetime\n",
      "from dateutil import tz\n",
      "\n",
      "class BmsReport:\n",
      "    def __init__(this, timestamp, raw):\n",
      "        this.timestamp = timestamp\n",
      "        this.raw = raw\n",
      "\n",
      "    @staticmethod\n",
      "    def fromSerial(bms):\n",
      "        START = '\\x1b'\n",
      "        # Wait until start character\n",
      "        while bms.read(1) != START:\n",
      "            pass\n",
      "        while True:\n",
      "            raw = ''\n",
      "            timestamp = datetime.datetime.now(tz.tzlocal())\n",
      "            while True:\n",
      "                c = bms.read(1)\n",
      "                if c == START:\n",
      "                    print 'Read START unexpectedly early from BMS'\n",
      "                    break\n",
      "                raw += c\n",
      "                if len(raw) == 1653:\n",
      "                    if (raw[0] == '[' and\n",
      "                        raw[1] == 'H' and\n",
      "                        raw[66] == ' ' and\n",
      "                        raw[113] == ' ' and\n",
      "                        raw[626] == ' ' and\n",
      "                        raw[1139] == ' ' and\n",
      "                        raw[1652] == ' '):\n",
      "                        return BmsReport(timestamp, raw)\n",
      "                    print 'Read incorrect delimiter from BMS'\n",
      "                    break\n",
      "    \n",
      "    def parsed(this):\n",
      "        # contentGroupByteBuffer: offset * 2 + 2\n",
      "        # auxiliaryGroupByteBuffer: offset * 2 + 67\n",
      "        return {\n",
      "            'bmsFault': int(this.raw[2:4], 16),\n",
      "            'numOnOffCycles': int(this.raw[4:8], 16),\n",
      "            'timeSincePowerUpInSecs': int(this.raw[8:14], 16),\n",
      "            'sourceCurrentAmps': int(this.raw[14:18], 16) / 10.0,\n",
      "            'loadCurrentAmps': int(this.raw[18:22], 16) / 10.0,\n",
      "            'variousIOState': int(this.raw[22:24], 16),\n",
      "            'relativeChargeCurrentLimitPercentage': int(this.raw[24:26], 16) / 255.0 * 100.0,\n",
      "            'relativeDischargeCurrentLimitPercentage': int(this.raw[26:28], 16) / 255.0 * 100.0,\n",
      "            'areRelaysOn': int(this.raw[28:30], 16),\n",
      "            'stateOfChargePercentage': int(this.raw[30:32], 16) / 100.0,\n",
      "\n",
      "            # Voltages in V\n",
      "            'packTotalVoltage': int(this.raw[32:36], 16) / 10.0,\n",
      "            'minCellVoltage': int(this.raw[42:44], 16) / 100.0 + 2.0,\n",
      "            'avgCellVoltage': int(this.raw[46:48], 16) / 100.0 + 2.0,\n",
      "            'maxCellVoltage': int(this.raw[48:50], 16) / 100.0 + 2.0,\n",
      "\n",
      "            # Temperatures in C\n",
      "            'minCellBoardTempC': int(this.raw[52:54], 16) - 0x80,\n",
      "            'avgCellBoardTempC': int(this.raw[56:58], 16) - 0x80,\n",
      "            'maxCellBoardTempC': int(this.raw[58:60], 16) - 0x80,\n",
      "            \n",
      "            # Stats\n",
      "            'depthOfDischargeKAH': int(this.raw[83:87], 16) / 1000.0,\n",
      "            'capacityKAH': int(this.raw[87:91], 16) / 1000.0,\n",
      "            'stateOfHealthPercentage': int(this.raw[91:93], 16) / 100.0,\n",
      "\n",
      "            # Resistance in Ohms\n",
      "            'packTotalResistance': int(this.raw[93:97], 16) * 1e-4,\n",
      "            'minCellResistance': int(this.raw[97:99], 16) * 1e-4,\n",
      "            'avgCellResistance': int(this.raw[101:103], 16) * 1e-4,\n",
      "            'maxCellResistance': int(this.raw[103:105], 16) * 1e-4,\n",
      "\n",
      "            # Power in W\n",
      "            'power': int(this.raw[109:113], 16) * 100,\n",
      "        }\n",
      "\n"
     ],
     "language": "python",
     "metadata": {},
     "outputs": [],
     "prompt_number": 2
    },
    {
     "cell_type": "code",
     "collapsed": false,
     "input": [
      "report = BmsReport.fromSerial(bms)\n",
      "report"
     ],
     "language": "python",
     "metadata": {},
     "outputs": [
      {
       "metadata": {},
       "output_type": "pyout",
       "prompt_number": 3,
       "text": [
        "<__main__.BmsReport instance at 0x1026dff38>"
       ]
      }
     ],
     "prompt_number": 3
    },
    {
     "cell_type": "code",
     "collapsed": false,
     "input": [
      "report.parsed()"
     ],
     "language": "python",
     "metadata": {},
     "outputs": [
      {
       "metadata": {},
       "output_type": "pyout",
       "prompt_number": 4,
       "text": [
        "{'areRelaysOn': 0,\n",
        " 'avgCellBoardTempC': 35,\n",
        " 'avgCellResistance': 0.00030000000000000003,\n",
        " 'avgCellVoltage': 3.31,\n",
        " 'bmsFault': 0,\n",
        " 'capacityKAH': 0.1,\n",
        " 'depthOfDischargeKAH': 0.039,\n",
        " 'loadCurrentAmps': 5.0,\n",
        " 'maxCellBoardTempC': 36,\n",
        " 'maxCellResistance': 0.01,\n",
        " 'maxCellVoltage': 3.3200000000000003,\n",
        " 'minCellBoardTempC': 35,\n",
        " 'minCellResistance': 0.0,\n",
        " 'minCellVoltage': 3.2800000000000002,\n",
        " 'numOnOffCycles': 18966,\n",
        " 'packTotalResistance': 0.01,\n",
        " 'packTotalVoltage': 109.5,\n",
        " 'power': 500,\n",
        " 'relativeChargeCurrentLimitPercentage': 100.0,\n",
        " 'relativeDischargeCurrentLimitPercentage': 100.0,\n",
        " 'sourceCurrentAmps': 0.0,\n",
        " 'stateOfChargePercentage': 1.22,\n",
        " 'stateOfHealthPercentage': 0.31,\n",
        " 'timeSincePowerUpInSecs': 1904,\n",
        " 'variousIOState': 2}"
       ]
      }
     ],
     "prompt_number": 4
    },
    {
     "cell_type": "code",
     "collapsed": false,
     "input": [
      "def c2f(c):\n",
      "    return c * 9.0 / 5.0 + 32\n",
      "    \n",
      "def format_dashboard(bms_report):\n",
      "    b = bms_report.parsed()\n",
      "    print datetime.datetime.now(tz.tzlocal()).strftime('%Y-%m-%d %H:%M:%S%z')\n",
      "    print\n",
      "    print 'Power   %5dW' % b['power']\n",
      "    print ('Voltage  %.2fV : %.2fV : %.2fV  (2.5V-2.7V to 3.6V)' % \n",
      "        (b['minCellVoltage'], b['avgCellVoltage'], b['maxCellVoltage']))\n",
      "    print ('Temp      %3dF :  %3dF :  %3dF  (-20F to 113F-130F)' % \n",
      "        (c2f(b['minCellBoardTempC']), c2f(b['avgCellBoardTempC']), c2f(b['maxCellBoardTempC'])))\n",
      "    print\n",
      "    print ('Total consumed %.1f KAH (of approx %.1f KAH)' % \n",
      "        (b['depthOfDischargeKAH'], b['capacityKAH']))\n",
      "\n",
      "format_dashboard(BmsReport.fromSerial(bms))\n",
      "    "
     ],
     "language": "python",
     "metadata": {},
     "outputs": [
      {
       "output_type": "stream",
       "stream": "stdout",
       "text": [
        "2014-07-02 23:11:14-0400\n",
        "\n",
        "Power     500W\n",
        "Voltage  3.28V : 3.31V : 3.32V  (2.5V-2.7V to 3.6V)\n",
        "Temp       95F :   95F :   96F  (-20F to 113F-130F)\n",
        "\n",
        "Total consumed 0.0 KAH (of approx 0.1 KAH)\n"
       ]
      }
     ],
     "prompt_number": 5
    },
    {
     "cell_type": "code",
     "collapsed": false,
     "input": [
      "# bms.flushInput()\n",
      "\n",
      "BmsReport.fromSerial(bms)\n",
      "BmsReport.fromSerial(bms)\n",
      "\n",
      "while True:\n",
      "    report = BmsReport.fromSerial(bms)\n",
      "    format_dashboard(report)\n",
      "    logfile = report.timestamp.strftime('/var/log/chargecar/bms-%Y-%m-%d.log')\n",
      "    epoch_time = (report.timestamp - datetime.datetime(1970, 1, 1, tzinfo=tz.tzutc())).total_seconds()\n",
      "    formatted_date = report.timestamp.strftime('%Y-%m-%d %H:%M:%S%z')\n",
      "    open(logfile, 'a+b').write('%.3f %s %s\\n' % (epoch_time, formatted_date, report.raw))\n",
      "    \n",
      "    \n",
      "    \n",
      "    "
     ],
     "language": "python",
     "metadata": {},
     "outputs": [
      {
       "output_type": "stream",
       "stream": "stdout",
       "text": [
        "2014-07-02 23:11:47-0400\n",
        "\n",
        "Power     500W\n",
        "Voltage  3.28V : 3.31V : 3.32V  (2.5V-2.7V to 3.6V)\n",
        "Temp       95F :   95F :   96F  (-20F to 113F-130F)\n",
        "\n",
        "Total consumed 0.0 KAH (of approx 0.1 KAH)\n",
        "Read START unexpectedly early from BMS"
       ]
      },
      {
       "output_type": "stream",
       "stream": "stdout",
       "text": [
        "\n",
        "2014-07-02 23:11:49-0400"
       ]
      },
      {
       "output_type": "stream",
       "stream": "stdout",
       "text": [
        "\n",
        "\n",
        "Power     500W\n",
        "Voltage  3.28V : 3.31V : 3.32V  (2.5V-2.7V to 3.6V)\n",
        "Temp       95F :   95F :   96F  (-20F to 113F-130F)\n",
        "\n",
        "Total consumed 0.0 KAH (of approx 0.1 KAH)\n",
        "2014-07-02 23:11:50-0400"
       ]
      },
      {
       "output_type": "stream",
       "stream": "stdout",
       "text": [
        "\n",
        "\n",
        "Power     500W\n",
        "Voltage  3.28V : 3.31V : 3.32V  (2.5V-2.7V to 3.6V)\n",
        "Temp       95F :   95F :   96F  (-20F to 113F-130F)\n",
        "\n",
        "Total consumed 0.0 KAH (of approx 0.1 KAH)\n",
        "2014-07-02 23:11:51-0400"
       ]
      },
      {
       "output_type": "stream",
       "stream": "stdout",
       "text": [
        "\n",
        "\n",
        "Power     500W\n",
        "Voltage  3.28V : 3.31V : 3.32V  (2.5V-2.7V to 3.6V)\n",
        "Temp       95F :   95F :   96F  (-20F to 113F-130F)\n",
        "\n",
        "Total consumed 0.0 KAH (of approx 0.1 KAH)\n",
        "2014-07-02 23:11:52-0400"
       ]
      },
      {
       "output_type": "stream",
       "stream": "stdout",
       "text": [
        "\n",
        "\n",
        "Power     500W\n",
        "Voltage  3.28V : 3.31V : 3.32V  (2.5V-2.7V to 3.6V)\n",
        "Temp       95F :   95F :   96F  (-20F to 113F-130F)\n",
        "\n",
        "Total consumed 0.0 KAH (of approx 0.1 KAH)\n",
        "2014-07-02 23:11:53-0400"
       ]
      },
      {
       "output_type": "stream",
       "stream": "stdout",
       "text": [
        "\n",
        "\n",
        "Power     500W\n",
        "Voltage  3.28V : 3.31V : 3.32V  (2.5V-2.7V to 3.6V)\n",
        "Temp       95F :   95F :   96F  (-20F to 113F-130F)\n",
        "\n",
        "Total consumed 0.0 KAH (of approx 0.1 KAH)\n",
        "2014-07-02 23:11:54-0400"
       ]
      },
      {
       "output_type": "stream",
       "stream": "stdout",
       "text": [
        "\n",
        "\n",
        "Power     600W\n",
        "Voltage  3.30V : 3.31V : 3.32V  (2.5V-2.7V to 3.6V)\n",
        "Temp       95F :   95F :   96F  (-20F to 113F-130F)\n",
        "\n",
        "Total consumed 0.0 KAH (of approx 0.1 KAH)\n",
        "2014-07-02 23:11:55-0400"
       ]
      },
      {
       "output_type": "stream",
       "stream": "stdout",
       "text": [
        "\n",
        "\n",
        "Power     600W\n",
        "Voltage  3.30V : 3.31V : 3.32V  (2.5V-2.7V to 3.6V)\n",
        "Temp       95F :   95F :   96F  (-20F to 113F-130F)\n",
        "\n",
        "Total consumed 0.0 KAH (of approx 0.1 KAH)\n",
        "2014-07-02 23:11:56-0400"
       ]
      },
      {
       "output_type": "stream",
       "stream": "stdout",
       "text": [
        "\n",
        "\n",
        "Power     500W\n",
        "Voltage  3.30V : 3.31V : 3.32V  (2.5V-2.7V to 3.6V)\n",
        "Temp       95F :   95F :   96F  (-20F to 113F-130F)\n",
        "\n",
        "Total consumed 0.0 KAH (of approx 0.1 KAH)\n",
        "2014-07-02 23:11:57-0400"
       ]
      },
      {
       "output_type": "stream",
       "stream": "stdout",
       "text": [
        "\n",
        "\n",
        "Power     500W\n",
        "Voltage  3.30V : 3.31V : 3.32V  (2.5V-2.7V to 3.6V)\n",
        "Temp       95F :   95F :   96F  (-20F to 113F-130F)\n",
        "\n",
        "Total consumed 0.0 KAH (of approx 0.1 KAH)\n",
        "2014-07-02 23:11:58-0400"
       ]
      },
      {
       "output_type": "stream",
       "stream": "stdout",
       "text": [
        "\n",
        "\n",
        "Power     500W\n",
        "Voltage  3.30V : 3.31V : 3.32V  (2.5V-2.7V to 3.6V)\n",
        "Temp       95F :   95F :   96F  (-20F to 113F-130F)\n",
        "\n",
        "Total consumed 0.0 KAH (of approx 0.1 KAH)\n",
        "2014-07-02 23:11:59-0400"
       ]
      },
      {
       "output_type": "stream",
       "stream": "stdout",
       "text": [
        "\n",
        "\n",
        "Power     500W\n",
        "Voltage  3.30V : 3.31V : 3.32V  (2.5V-2.7V to 3.6V)\n",
        "Temp       95F :   95F :   96F  (-20F to 113F-130F)\n",
        "\n",
        "Total consumed 0.0 KAH (of approx 0.1 KAH)\n",
        "2014-07-02 23:12:00-0400"
       ]
      },
      {
       "output_type": "stream",
       "stream": "stdout",
       "text": [
        "\n",
        "\n",
        "Power     500W\n",
        "Voltage  3.28V : 3.31V : 3.32V  (2.5V-2.7V to 3.6V)\n",
        "Temp       95F :   95F :   96F  (-20F to 113F-130F)\n",
        "\n",
        "Total consumed 0.0 KAH (of approx 0.1 KAH)\n",
        "2014-07-02 23:12:01-0400"
       ]
      },
      {
       "output_type": "stream",
       "stream": "stdout",
       "text": [
        "\n",
        "\n",
        "Power     500W\n",
        "Voltage  3.28V : 3.31V : 3.32V  (2.5V-2.7V to 3.6V)\n",
        "Temp       95F :   95F :   96F  (-20F to 113F-130F)\n",
        "\n",
        "Total consumed 0.0 KAH (of approx 0.1 KAH)\n",
        "2014-07-02 23:12:02-0400"
       ]
      },
      {
       "output_type": "stream",
       "stream": "stdout",
       "text": [
        "\n",
        "\n",
        "Power     500W\n",
        "Voltage  3.28V : 3.31V : 3.32V  (2.5V-2.7V to 3.6V)\n",
        "Temp       95F :   95F :   96F  (-20F to 113F-130F)\n",
        "\n",
        "Total consumed 0.0 KAH (of approx 0.1 KAH)\n",
        "2014-07-02 23:12:03-0400"
       ]
      },
      {
       "output_type": "stream",
       "stream": "stdout",
       "text": [
        "\n",
        "\n",
        "Power     500W\n",
        "Voltage  3.28V : 3.31V : 3.32V  (2.5V-2.7V to 3.6V)\n",
        "Temp       95F :   95F :   96F  (-20F to 113F-130F)\n",
        "\n",
        "Total consumed 0.0 KAH (of approx 0.1 KAH)\n",
        "2014-07-02 23:12:04-0400"
       ]
      },
      {
       "output_type": "stream",
       "stream": "stdout",
       "text": [
        "\n",
        "\n",
        "Power     600W\n",
        "Voltage  3.28V : 3.31V : 3.32V  (2.5V-2.7V to 3.6V)\n",
        "Temp       95F :   95F :   96F  (-20F to 113F-130F)\n",
        "\n",
        "Total consumed 0.0 KAH (of approx 0.1 KAH)\n",
        "2014-07-02 23:12:05-0400"
       ]
      },
      {
       "output_type": "stream",
       "stream": "stdout",
       "text": [
        "\n",
        "\n",
        "Power     600W\n",
        "Voltage  3.28V : 3.31V : 3.32V  (2.5V-2.7V to 3.6V)\n",
        "Temp       95F :   95F :   96F  (-20F to 113F-130F)\n",
        "\n",
        "Total consumed 0.0 KAH (of approx 0.1 KAH)\n",
        "2014-07-02 23:12:06-0400"
       ]
      },
      {
       "output_type": "stream",
       "stream": "stdout",
       "text": [
        "\n",
        "\n",
        "Power     500W\n",
        "Voltage  3.28V : 3.31V : 3.32V  (2.5V-2.7V to 3.6V)\n",
        "Temp       95F :   95F :   96F  (-20F to 113F-130F)\n",
        "\n",
        "Total consumed 0.0 KAH (of approx 0.1 KAH)\n",
        "2014-07-02 23:12:07-0400"
       ]
      },
      {
       "output_type": "stream",
       "stream": "stdout",
       "text": [
        "\n",
        "\n",
        "Power     500W\n",
        "Voltage  3.28V : 3.31V : 3.32V  (2.5V-2.7V to 3.6V)\n",
        "Temp       95F :   95F :   96F  (-20F to 113F-130F)\n",
        "\n",
        "Total consumed 0.0 KAH (of approx 0.1 KAH)\n",
        "2014-07-02 23:12:08-0400"
       ]
      },
      {
       "output_type": "stream",
       "stream": "stdout",
       "text": [
        "\n",
        "\n",
        "Power     500W\n",
        "Voltage  3.30V : 3.31V : 3.32V  (2.5V-2.7V to 3.6V)\n",
        "Temp       95F :   95F :   96F  (-20F to 113F-130F)\n",
        "\n",
        "Total consumed 0.0 KAH (of approx 0.1 KAH)\n",
        "2014-07-02 23:12:09-0400"
       ]
      },
      {
       "output_type": "stream",
       "stream": "stdout",
       "text": [
        "\n",
        "\n",
        "Power     500W\n",
        "Voltage  3.30V : 3.31V : 3.32V  (2.5V-2.7V to 3.6V)\n",
        "Temp       95F :   95F :   96F  (-20F to 113F-130F)\n",
        "\n",
        "Total consumed 0.0 KAH (of approx 0.1 KAH)\n"
       ]
      },
      {
       "ename": "KeyboardInterrupt",
       "evalue": "",
       "output_type": "pyerr",
       "traceback": [
        "\u001b[0;31m---------------------------------------------------------------------------\u001b[0m\n\u001b[0;31mKeyboardInterrupt\u001b[0m                         Traceback (most recent call last)",
        "\u001b[0;32m<ipython-input-7-3f606bb64121>\u001b[0m in \u001b[0;36m<module>\u001b[0;34m()\u001b[0m\n\u001b[1;32m      5\u001b[0m \u001b[0;34m\u001b[0m\u001b[0m\n\u001b[1;32m      6\u001b[0m \u001b[0;32mwhile\u001b[0m \u001b[0mTrue\u001b[0m\u001b[0;34m:\u001b[0m\u001b[0;34m\u001b[0m\u001b[0m\n\u001b[0;32m----> 7\u001b[0;31m     \u001b[0mreport\u001b[0m \u001b[0;34m=\u001b[0m \u001b[0mBmsReport\u001b[0m\u001b[0;34m.\u001b[0m\u001b[0mfromSerial\u001b[0m\u001b[0;34m(\u001b[0m\u001b[0mbms\u001b[0m\u001b[0;34m)\u001b[0m\u001b[0;34m\u001b[0m\u001b[0m\n\u001b[0m\u001b[1;32m      8\u001b[0m     \u001b[0mformat_dashboard\u001b[0m\u001b[0;34m(\u001b[0m\u001b[0mreport\u001b[0m\u001b[0;34m)\u001b[0m\u001b[0;34m\u001b[0m\u001b[0m\n\u001b[1;32m      9\u001b[0m     \u001b[0mlogfile\u001b[0m \u001b[0;34m=\u001b[0m \u001b[0mreport\u001b[0m\u001b[0;34m.\u001b[0m\u001b[0mtimestamp\u001b[0m\u001b[0;34m.\u001b[0m\u001b[0mstrftime\u001b[0m\u001b[0;34m(\u001b[0m\u001b[0;34m'/var/log/chargecar/bms-%Y-%m-%d.log'\u001b[0m\u001b[0;34m)\u001b[0m\u001b[0;34m\u001b[0m\u001b[0m\n",
        "\u001b[0;32m<ipython-input-2-e01446238e94>\u001b[0m in \u001b[0;36mfromSerial\u001b[0;34m(bms)\u001b[0m\n\u001b[1;32m     18\u001b[0m             \u001b[0mtimestamp\u001b[0m \u001b[0;34m=\u001b[0m \u001b[0mdatetime\u001b[0m\u001b[0;34m.\u001b[0m\u001b[0mdatetime\u001b[0m\u001b[0;34m.\u001b[0m\u001b[0mnow\u001b[0m\u001b[0;34m(\u001b[0m\u001b[0mtz\u001b[0m\u001b[0;34m.\u001b[0m\u001b[0mtzlocal\u001b[0m\u001b[0;34m(\u001b[0m\u001b[0;34m)\u001b[0m\u001b[0;34m)\u001b[0m\u001b[0;34m\u001b[0m\u001b[0m\n\u001b[1;32m     19\u001b[0m             \u001b[0;32mwhile\u001b[0m \u001b[0mTrue\u001b[0m\u001b[0;34m:\u001b[0m\u001b[0;34m\u001b[0m\u001b[0m\n\u001b[0;32m---> 20\u001b[0;31m                 \u001b[0mc\u001b[0m \u001b[0;34m=\u001b[0m \u001b[0mbms\u001b[0m\u001b[0;34m.\u001b[0m\u001b[0mread\u001b[0m\u001b[0;34m(\u001b[0m\u001b[0;36m1\u001b[0m\u001b[0;34m)\u001b[0m\u001b[0;34m\u001b[0m\u001b[0m\n\u001b[0m\u001b[1;32m     21\u001b[0m                 \u001b[0;32mif\u001b[0m \u001b[0mc\u001b[0m \u001b[0;34m==\u001b[0m \u001b[0mSTART\u001b[0m\u001b[0;34m:\u001b[0m\u001b[0;34m\u001b[0m\u001b[0m\n\u001b[1;32m     22\u001b[0m                     \u001b[0;32mprint\u001b[0m \u001b[0;34m'Read START unexpectedly early from BMS'\u001b[0m\u001b[0;34m\u001b[0m\u001b[0m\n",
        "\u001b[0;32m/Users/rsargent/anaconda/lib/python2.7/site-packages/serial/serialposix.pyc\u001b[0m in \u001b[0;36mread\u001b[0;34m(self, size)\u001b[0m\n\u001b[1;32m    459\u001b[0m         \u001b[0;32mwhile\u001b[0m \u001b[0mlen\u001b[0m\u001b[0;34m(\u001b[0m\u001b[0mread\u001b[0m\u001b[0;34m)\u001b[0m \u001b[0;34m<\u001b[0m \u001b[0msize\u001b[0m\u001b[0;34m:\u001b[0m\u001b[0;34m\u001b[0m\u001b[0m\n\u001b[1;32m    460\u001b[0m             \u001b[0;32mtry\u001b[0m\u001b[0;34m:\u001b[0m\u001b[0;34m\u001b[0m\u001b[0m\n\u001b[0;32m--> 461\u001b[0;31m                 \u001b[0mready\u001b[0m\u001b[0;34m,\u001b[0m\u001b[0m_\u001b[0m\u001b[0;34m,\u001b[0m\u001b[0m_\u001b[0m \u001b[0;34m=\u001b[0m \u001b[0mselect\u001b[0m\u001b[0;34m.\u001b[0m\u001b[0mselect\u001b[0m\u001b[0;34m(\u001b[0m\u001b[0;34m[\u001b[0m\u001b[0mself\u001b[0m\u001b[0;34m.\u001b[0m\u001b[0mfd\u001b[0m\u001b[0;34m]\u001b[0m\u001b[0;34m,\u001b[0m\u001b[0;34m[\u001b[0m\u001b[0;34m]\u001b[0m\u001b[0;34m,\u001b[0m\u001b[0;34m[\u001b[0m\u001b[0;34m]\u001b[0m\u001b[0;34m,\u001b[0m \u001b[0mself\u001b[0m\u001b[0;34m.\u001b[0m\u001b[0m_timeout\u001b[0m\u001b[0;34m)\u001b[0m\u001b[0;34m\u001b[0m\u001b[0m\n\u001b[0m\u001b[1;32m    462\u001b[0m                 \u001b[0;31m# If select was used with a timeout, and the timeout occurs, it\u001b[0m\u001b[0;34m\u001b[0m\u001b[0;34m\u001b[0m\u001b[0m\n\u001b[1;32m    463\u001b[0m                 \u001b[0;31m# returns with empty lists -> thus abort read operation.\u001b[0m\u001b[0;34m\u001b[0m\u001b[0;34m\u001b[0m\u001b[0m\n",
        "\u001b[0;31mKeyboardInterrupt\u001b[0m: "
       ]
      }
     ],
     "prompt_number": 7
    },
    {
     "cell_type": "code",
     "collapsed": false,
     "input": [],
     "language": "python",
     "metadata": {},
     "outputs": []
    },
    {
     "cell_type": "code",
     "collapsed": false,
     "input": [],
     "language": "python",
     "metadata": {},
     "outputs": []
    }
   ],
   "metadata": {}
  }
 ]
}